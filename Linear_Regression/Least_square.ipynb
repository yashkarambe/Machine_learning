{
 "cells": [
  {
   "cell_type": "markdown",
   "metadata": {},
   "source": [
    "# Importing Library and Functions \n",
    "Now, let's us understand the code.\n",
    "Firstly we import pandas library which is used for data manipulation in Python.\n",
    "Next, We import matplotlib library which is used for the data Visualization with verious type of graphs.\n",
    "After that some functions are imported : \"array\" --> which is used to make the array Objects with different Dimensions\n",
    "Other function is \"zeros\" --> which is used to make array object with '0' as an value in the array.\n",
    "We need function \"mean()\" to calculate the mean of data which is present in statistics library.\n",
    "Finally, to calculate the Score of the Model, here the r2_score is used. "
   ]
  },
  {
   "cell_type": "code",
   "execution_count": 2,
   "metadata": {},
   "outputs": [],
   "source": [
    "import pandas as pd\n",
    "import matplotlib.pyplot as plt  \n",
    "from numpy import array , zeros \n",
    "from statistics import mean \n",
    "from sklearn.metrics import r2_score  "
   ]
  },
  {
   "cell_type": "markdown",
   "metadata": {},
   "source": [
    "Then we use \"read_csv\" function of Pandas to load our dataset into a DataFrame object named \"df\".\n",
    "you can directly store the data into the array and use it ,But here we have XL file so directly read data from file."
   ]
  },
  {
   "cell_type": "code",
   "execution_count": 3,
   "metadata": {},
   "outputs": [
    {
     "data": {
      "text/html": [
       "<div>\n",
       "<style scoped>\n",
       "    .dataframe tbody tr th:only-of-type {\n",
       "        vertical-align: middle;\n",
       "    }\n",
       "\n",
       "    .dataframe tbody tr th {\n",
       "        vertical-align: top;\n",
       "    }\n",
       "\n",
       "    .dataframe thead th {\n",
       "        text-align: right;\n",
       "    }\n",
       "</style>\n",
       "<table border=\"1\" class=\"dataframe\">\n",
       "  <thead>\n",
       "    <tr style=\"text-align: right;\">\n",
       "      <th></th>\n",
       "      <th>CGPA</th>\n",
       "      <th>CGPA .1</th>\n",
       "      <th>SALARY</th>\n",
       "    </tr>\n",
       "  </thead>\n",
       "  <tbody>\n",
       "    <tr>\n",
       "      <th>0</th>\n",
       "      <td>NaN</td>\n",
       "      <td>6.10</td>\n",
       "      <td>0.00</td>\n",
       "    </tr>\n",
       "    <tr>\n",
       "      <th>1</th>\n",
       "      <td>NaN</td>\n",
       "      <td>6.15</td>\n",
       "      <td>2.50</td>\n",
       "    </tr>\n",
       "    <tr>\n",
       "      <th>2</th>\n",
       "      <td>NaN</td>\n",
       "      <td>6.30</td>\n",
       "      <td>2.25</td>\n",
       "    </tr>\n",
       "    <tr>\n",
       "      <th>3</th>\n",
       "      <td>NaN</td>\n",
       "      <td>7.24</td>\n",
       "      <td>6.00</td>\n",
       "    </tr>\n",
       "    <tr>\n",
       "      <th>4</th>\n",
       "      <td>NaN</td>\n",
       "      <td>7.50</td>\n",
       "      <td>3.30</td>\n",
       "    </tr>\n",
       "    <tr>\n",
       "      <th>5</th>\n",
       "      <td>NaN</td>\n",
       "      <td>7.50</td>\n",
       "      <td>3.75</td>\n",
       "    </tr>\n",
       "    <tr>\n",
       "      <th>6</th>\n",
       "      <td>NaN</td>\n",
       "      <td>7.90</td>\n",
       "      <td>4.50</td>\n",
       "    </tr>\n",
       "    <tr>\n",
       "      <th>7</th>\n",
       "      <td>NaN</td>\n",
       "      <td>8.00</td>\n",
       "      <td>3.30</td>\n",
       "    </tr>\n",
       "    <tr>\n",
       "      <th>8</th>\n",
       "      <td>NaN</td>\n",
       "      <td>8.90</td>\n",
       "      <td>4.00</td>\n",
       "    </tr>\n",
       "    <tr>\n",
       "      <th>9</th>\n",
       "      <td>NaN</td>\n",
       "      <td>9.10</td>\n",
       "      <td>3.50</td>\n",
       "    </tr>\n",
       "    <tr>\n",
       "      <th>10</th>\n",
       "      <td>NaN</td>\n",
       "      <td>9.50</td>\n",
       "      <td>6.50</td>\n",
       "    </tr>\n",
       "    <tr>\n",
       "      <th>11</th>\n",
       "      <td>NaN</td>\n",
       "      <td>9.50</td>\n",
       "      <td>10.50</td>\n",
       "    </tr>\n",
       "    <tr>\n",
       "      <th>12</th>\n",
       "      <td>NaN</td>\n",
       "      <td>9.52</td>\n",
       "      <td>14.50</td>\n",
       "    </tr>\n",
       "  </tbody>\n",
       "</table>\n",
       "</div>"
      ],
      "text/plain": [
       "    CGPA   CGPA .1  SALARY\n",
       "0     NaN     6.10    0.00\n",
       "1     NaN     6.15    2.50\n",
       "2     NaN     6.30    2.25\n",
       "3     NaN     7.24    6.00\n",
       "4     NaN     7.50    3.30\n",
       "5     NaN     7.50    3.75\n",
       "6     NaN     7.90    4.50\n",
       "7     NaN     8.00    3.30\n",
       "8     NaN     8.90    4.00\n",
       "9     NaN     9.10    3.50\n",
       "10    NaN     9.50    6.50\n",
       "11    NaN     9.50   10.50\n",
       "12    NaN     9.52   14.50"
      ]
     },
     "execution_count": 3,
     "metadata": {},
     "output_type": "execute_result"
    }
   ],
   "source": [
    "df = pd.read_excel('ML_practical_1_dataset.xlsx')\n",
    "df"
   ]
  },
  {
   "cell_type": "markdown",
   "metadata": {},
   "source": [
    "The \"CGPA\" column represent the independent variable 'x' and the \"Salary\" column repredent dependent variable 'y'.\n",
    "The \"to_numpy()\" --> Is the function that convert the Data into numpay array.\n",
    "After that each column of data is stored in the 'cgpa' & 'salary' variables and the mean, also kanown as avrage is stored in 'avrage_cgpa'&'avrage_salary'. Finally, the \"nr\" & \"dr\" variable store '0' which representing the Numerator and Denominator for calculating the slope."
   ]
  },
  {
   "cell_type": "code",
   "execution_count": 4,
   "metadata": {},
   "outputs": [],
   "source": [
    "cgpa = df['CGPA .1'].to_numpy()\n",
    "salary = df['SALARY'].to_numpy()\n",
    "avrage_cgpa , avrage_salary = mean(cgpa) , mean(salary)\n",
    "nr , dr = 0 , 0"
   ]
  },
  {
   "cell_type": "markdown",
   "metadata": {},
   "source": [
    "let's us understand for what purpose the 'nr' and 'dr' variables are taken. So understand the aim , is to find the equation of best fit line  for prediction of unknoun data using the known data. The Basic equation of line is : -->  \"Y = mx + c\". \n",
    "y --> dependent variable. \n",
    "x --> independent variable.\n",
    "c --> Y intercept.\n",
    "m --> Slope of the line."
   ]
  },
  {
   "cell_type": "markdown",
   "metadata": {},
   "source": [
    " \n",
    "#      (x - x') (y - y')     -> This term represent the 'nr' -  Numerator.\n",
    "#  m = -------------------\n",
    "#         ( x - x')^2        -> This term represent the 'dr' -  Denominator.\n",
    "\n",
    "#     c = y' - mx'  "
   ]
  },
  {
   "cell_type": "markdown",
   "metadata": {},
   "source": [
    "x' & y' are means of respected variable. Here, we are repeating the same thing for evere value of x & y , by using the loop iterating the no. of values present i.e. the length of any column either 'CGPA' or 'Salary'."
   ]
  },
  {
   "cell_type": "code",
   "execution_count": 5,
   "metadata": {},
   "outputs": [],
   "source": [
    "for i in range(len(cgpa)):\n",
    "    nr += (cgpa[i] - avrage_cgpa)* (salary[i] - avrage_salary)\n",
    "    dr += (cgpa[i] - avrage_cgpa)**2\n"
   ]
  },
  {
   "cell_type": "markdown",
   "metadata": {},
   "source": [
    "Here simply calculate the value of 'm' i.e. slope."
   ]
  },
  {
   "cell_type": "code",
   "execution_count": 6,
   "metadata": {},
   "outputs": [
    {
     "data": {
      "text/plain": [
       "2.1185150235675994"
      ]
     },
     "execution_count": 6,
     "metadata": {},
     "output_type": "execute_result"
    }
   ],
   "source": [
    "slope = nr/dr \n",
    "slope"
   ]
  },
  {
   "cell_type": "markdown",
   "metadata": {},
   "source": [
    "Calculating the value of 'c' i.e. y intercept."
   ]
  },
  {
   "cell_type": "code",
   "execution_count": 7,
   "metadata": {},
   "outputs": [
    {
     "name": "stdout",
     "output_type": "stream",
     "text": [
      "Equation of line is = 2.12*x + -11.85\n"
     ]
    }
   ],
   "source": [
    "\n",
    "y_intercept = avrage_salary - slope * avrage_cgpa \n",
    "print('Equation of line is =' + f'{slope: .2f}*x + {y_intercept: .2f}')"
   ]
  },
  {
   "cell_type": "markdown",
   "metadata": {},
   "source": [
    "# Testing for known values of x.\n",
    "Now, we know the equation : \" y = mx + c \". For any value of 'x' we can find the value of y using the equation by puting the value in equation\n",
    "the variable 'pred_salary' is the array with all values '0' having length equal to the 'cgpa' and dimension equal to 1 for each value of 'x' i.e. 'CGPA' predict value of y and store in 'pred_salary'."
   ]
  },
  {
   "cell_type": "code",
   "execution_count": 8,
   "metadata": {},
   "outputs": [
    {
     "data": {
      "text/plain": [
       "array([[1.07279275],\n",
       "       [1.1787185 ],\n",
       "       [1.49649576],\n",
       "       [3.48789988],\n",
       "       [4.03871379],\n",
       "       [4.03871379],\n",
       "       [4.8861198 ],\n",
       "       [5.0979713 ],\n",
       "       [7.00463482],\n",
       "       [7.42833782],\n",
       "       [8.27574383],\n",
       "       [8.27574383],\n",
       "       [8.31811413]])"
      ]
     },
     "execution_count": 8,
     "metadata": {},
     "output_type": "execute_result"
    }
   ],
   "source": [
    "pred_salary = zeros((len(cgpa), 1))\n",
    "for i in range (len(cgpa)):\n",
    "    pred_salary[i] = slope * cgpa [i] + y_intercept\n",
    "pred_salary"
   ]
  },
  {
   "cell_type": "markdown",
   "metadata": {},
   "source": [
    "Ploting the graph of points using the matplotlib library."
   ]
  },
  {
   "cell_type": "code",
   "execution_count": 9,
   "metadata": {},
   "outputs": [
    {
     "data": {
      "text/plain": [
       "[<matplotlib.lines.Line2D at 0x7f6fecfb5af0>]"
      ]
     },
     "execution_count": 9,
     "metadata": {},
     "output_type": "execute_result"
    },
    {
     "data": {
      "image/png": "[encoded data removed]",
      "text/plain": [
       "<Figure size 640x480 with 1 Axes>"
      ]
     },
     "metadata": {},
     "output_type": "display_data"
    }
   ],
   "source": [
    "plt.scatter(cgpa , salary , color = 'green')\n",
    "plt.xlabel('cgpa')\n",
    "plt.ylabel('salary')\n",
    "plt.plot([5.5 ,10] , slope * array([5.5 ,10.0]) + y_intercept ,'red')"
   ]
  },
  {
   "cell_type": "markdown",
   "metadata": {},
   "source": [
    "# Testing for unknown values of x."
   ]
  },
  {
   "cell_type": "code",
   "execution_count": 10,
   "metadata": {},
   "outputs": [],
   "source": [
    "pred_cgpa = array([9.11,5.25,8.58,7.26,9.85 ,8 ])\n",
    "response_salary = zeros((len(pred_cgpa), 1))\n",
    "for i in range(len(pred_cgpa)):\n",
    "    response_salary[i] = slope * pred_cgpa[i] + y_intercept\n"
   ]
  },
  {
   "cell_type": "code",
   "execution_count": 14,
   "metadata": {},
   "outputs": [
    {
     "data": {
      "text/plain": [
       "[<matplotlib.lines.Line2D at 0x7f6feade30a0>]"
      ]
     },
     "execution_count": 14,
     "metadata": {},
     "output_type": "execute_result"
    },
    {
     "data": {
      "image/png": "[encoded data removed]",
      "text/plain": [
       "<Figure size 640x480 with 1 Axes>"
      ]
     },
     "metadata": {},
     "output_type": "display_data"
    }
   ],
   "source": [
    "plt.scatter(pred_cgpa, response_salary , color='blue')\n",
    "plt.scatter(cgpa , salary , color = 'green')\n",
    "plt.xlabel('cgpa')\n",
    "plt.ylabel('salary')\n",
    "plt.title('Least Square Method')\n",
    "plt.grid()\n",
    "plt.plot([5.5 ,10] , slope * array([5.5 ,10.0]) + y_intercept ,'red')"
   ]
  },
  {
   "cell_type": "code",
   "execution_count": 12,
   "metadata": {},
   "outputs": [
    {
     "data": {
      "text/plain": [
       "5.097971297586032"
      ]
     },
     "execution_count": 12,
     "metadata": {},
     "output_type": "execute_result"
    }
   ],
   "source": [
    "# This is the function for testing.\n",
    "def model( x ):\n",
    "    y = slope * x + y_intercept\n",
    "    return y\n",
    "    \n",
    "model(8)"
   ]
  },
  {
   "cell_type": "markdown",
   "metadata": {},
   "source": [
    "# Calculating the Score of the Model."
   ]
  },
  {
   "cell_type": "code",
   "execution_count": 13,
   "metadata": {},
   "outputs": [
    {
     "data": {
      "text/plain": [
       "0.51"
      ]
     },
     "execution_count": 13,
     "metadata": {},
     "output_type": "execute_result"
    }
   ],
   "source": [
    "r2_score = round(r2_score(salary , pred_salary) , 2)\n",
    "r2_score"
   ]
  }
 ],
 "metadata": {
  "kernelspec": {
   "display_name": "base",
   "language": "python",
   "name": "python3"
  },
  "language_info": {
   "codemirror_mode": {
    "name": "ipython",
    "version": 3
   },
   "file_extension": ".py",
   "mimetype": "text/x-python",
   "name": "python",
   "nbconvert_exporter": "python",
   "pygments_lexer": "ipython3",
   "version": "3.8.10"
  },
  "orig_nbformat": 4
 },
 "nbformat": 4,
 "nbformat_minor": 2
}
