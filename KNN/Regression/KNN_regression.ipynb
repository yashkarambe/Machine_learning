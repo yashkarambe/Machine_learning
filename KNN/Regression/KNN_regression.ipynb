{
 "cells": [
  {
   "cell_type": "markdown",
   "metadata": {},
   "source": [
    "# importing library"
   ]
  },
  {
   "cell_type": "code",
   "execution_count": 14,
   "metadata": {},
   "outputs": [],
   "source": [
    "import numpy as np \n",
    "import pandas as pd\n",
    "import matplotlib.pyplot as plt \n",
    "from sklearn.model_selection import train_test_split\n",
    "from sklearn.neighbors import KNeighborsRegressor\n",
    "from sklearn.metrics import r2_score \n",
    "from sklearn.metrics import classification_report"
   ]
  },
  {
   "cell_type": "code",
   "execution_count": 2,
   "metadata": {},
   "outputs": [
    {
     "data": {
      "text/html": [
       "<div>\n",
       "<style scoped>\n",
       "    .dataframe tbody tr th:only-of-type {\n",
       "        vertical-align: middle;\n",
       "    }\n",
       "\n",
       "    .dataframe tbody tr th {\n",
       "        vertical-align: top;\n",
       "    }\n",
       "\n",
       "    .dataframe thead th {\n",
       "        text-align: right;\n",
       "    }\n",
       "</style>\n",
       "<table border=\"1\" class=\"dataframe\">\n",
       "  <thead>\n",
       "    <tr style=\"text-align: right;\">\n",
       "      <th></th>\n",
       "      <th>x</th>\n",
       "      <th>y</th>\n",
       "    </tr>\n",
       "  </thead>\n",
       "  <tbody>\n",
       "    <tr>\n",
       "      <th>0</th>\n",
       "      <td>24.0</td>\n",
       "      <td>21.549452</td>\n",
       "    </tr>\n",
       "    <tr>\n",
       "      <th>1</th>\n",
       "      <td>50.0</td>\n",
       "      <td>47.464463</td>\n",
       "    </tr>\n",
       "    <tr>\n",
       "      <th>2</th>\n",
       "      <td>15.0</td>\n",
       "      <td>17.218656</td>\n",
       "    </tr>\n",
       "    <tr>\n",
       "      <th>3</th>\n",
       "      <td>38.0</td>\n",
       "      <td>36.586398</td>\n",
       "    </tr>\n",
       "    <tr>\n",
       "      <th>4</th>\n",
       "      <td>87.0</td>\n",
       "      <td>87.288984</td>\n",
       "    </tr>\n",
       "    <tr>\n",
       "      <th>...</th>\n",
       "      <td>...</td>\n",
       "      <td>...</td>\n",
       "    </tr>\n",
       "    <tr>\n",
       "      <th>695</th>\n",
       "      <td>58.0</td>\n",
       "      <td>58.595006</td>\n",
       "    </tr>\n",
       "    <tr>\n",
       "      <th>696</th>\n",
       "      <td>93.0</td>\n",
       "      <td>94.625094</td>\n",
       "    </tr>\n",
       "    <tr>\n",
       "      <th>697</th>\n",
       "      <td>82.0</td>\n",
       "      <td>88.603770</td>\n",
       "    </tr>\n",
       "    <tr>\n",
       "      <th>698</th>\n",
       "      <td>66.0</td>\n",
       "      <td>63.648685</td>\n",
       "    </tr>\n",
       "    <tr>\n",
       "      <th>699</th>\n",
       "      <td>97.0</td>\n",
       "      <td>94.975266</td>\n",
       "    </tr>\n",
       "  </tbody>\n",
       "</table>\n",
       "<p>700 rows × 2 columns</p>\n",
       "</div>"
      ],
      "text/plain": [
       "        x          y\n",
       "0    24.0  21.549452\n",
       "1    50.0  47.464463\n",
       "2    15.0  17.218656\n",
       "3    38.0  36.586398\n",
       "4    87.0  87.288984\n",
       "..    ...        ...\n",
       "695  58.0  58.595006\n",
       "696  93.0  94.625094\n",
       "697  82.0  88.603770\n",
       "698  66.0  63.648685\n",
       "699  97.0  94.975266\n",
       "\n",
       "[700 rows x 2 columns]"
      ]
     },
     "execution_count": 2,
     "metadata": {},
     "output_type": "execute_result"
    }
   ],
   "source": [
    "df = pd.read_csv(\"data.csv\")\n",
    "df"
   ]
  },
  {
   "cell_type": "code",
   "execution_count": 47,
   "metadata": {},
   "outputs": [],
   "source": [
    "df.dropna(inplace=True)"
   ]
  },
  {
   "cell_type": "markdown",
   "metadata": {},
   "source": [
    "# visulizing Data "
   ]
  },
  {
   "cell_type": "code",
   "execution_count": 48,
   "metadata": {},
   "outputs": [
    {
     "data": {
      "text/plain": [
       "Text(0, 0.5, 'Y variable')"
      ]
     },
     "execution_count": 48,
     "metadata": {},
     "output_type": "execute_result"
    },
    {
     "data": {
      "image/png": "[encoded data removed]",
      "text/plain": [
       "<Figure size 640x480 with 1 Axes>"
      ]
     },
     "metadata": {},
     "output_type": "display_data"
    }
   ],
   "source": [
    "plt.scatter(df.iloc[:,0:1],df.iloc[:,1:2])\n",
    "plt.grid()\n",
    "plt.title(\"Random Data set\")\n",
    "plt.xlabel(\"X variable\")\n",
    "plt.ylabel(\"Y variable\")"
   ]
  },
  {
   "cell_type": "code",
   "execution_count": 49,
   "metadata": {},
   "outputs": [],
   "source": [
    "x_train , x_test , y_train , y_test = train_test_split(df.drop(['y'],axis=1).to_numpy() ,df.iloc[:,1:2].to_numpy() , test_size=0.2 , random_state=42)"
   ]
  },
  {
   "cell_type": "markdown",
   "metadata": {},
   "source": [
    "# Training the Model"
   ]
  },
  {
   "cell_type": "code",
   "execution_count": 50,
   "metadata": {},
   "outputs": [
    {
     "data": {
      "text/html": [
       "<style>#sk-container-id-1 {color: black;background-color: white;}#sk-container-id-1 pre{padding: 0;}#sk-container-id-1 div.sk-toggleable {background-color: white;}#sk-container-id-1 label.sk-toggleable__label {cursor: pointer;display: block;width: 100%;margin-bottom: 0;padding: 0.3em;box-sizing: border-box;text-align: center;}#sk-container-id-1 label.sk-toggleable__label-arrow:before {content: \"▸\";float: left;margin-right: 0.25em;color: #696969;}#sk-container-id-1 label.sk-toggleable__label-arrow:hover:before {color: black;}#sk-container-id-1 div.sk-estimator:hover label.sk-toggleable__label-arrow:before {color: black;}#sk-container-id-1 div.sk-toggleable__content {max-height: 0;max-width: 0;overflow: hidden;text-align: left;background-color: #f0f8ff;}#sk-container-id-1 div.sk-toggleable__content pre {margin: 0.2em;color: black;border-radius: 0.25em;background-color: #f0f8ff;}#sk-container-id-1 input.sk-toggleable__control:checked~div.sk-toggleable__content {max-height: 200px;max-width: 100%;overflow: auto;}#sk-container-id-1 input.sk-toggleable__control:checked~label.sk-toggleable__label-arrow:before {content: \"▾\";}#sk-container-id-1 div.sk-estimator input.sk-toggleable__control:checked~label.sk-toggleable__label {background-color: #d4ebff;}#sk-container-id-1 div.sk-label input.sk-toggleable__control:checked~label.sk-toggleable__label {background-color: #d4ebff;}#sk-container-id-1 input.sk-hidden--visually {border: 0;clip: rect(1px 1px 1px 1px);clip: rect(1px, 1px, 1px, 1px);height: 1px;margin: -1px;overflow: hidden;padding: 0;position: absolute;width: 1px;}#sk-container-id-1 div.sk-estimator {font-family: monospace;background-color: #f0f8ff;border: 1px dotted black;border-radius: 0.25em;box-sizing: border-box;margin-bottom: 0.5em;}#sk-container-id-1 div.sk-estimator:hover {background-color: #d4ebff;}#sk-container-id-1 div.sk-parallel-item::after {content: \"\";width: 100%;border-bottom: 1px solid gray;flex-grow: 1;}#sk-container-id-1 div.sk-label:hover label.sk-toggleable__label {background-color: #d4ebff;}#sk-container-id-1 div.sk-serial::before {content: \"\";position: absolute;border-left: 1px solid gray;box-sizing: border-box;top: 0;bottom: 0;left: 50%;z-index: 0;}#sk-container-id-1 div.sk-serial {display: flex;flex-direction: column;align-items: center;background-color: white;padding-right: 0.2em;padding-left: 0.2em;position: relative;}#sk-container-id-1 div.sk-item {position: relative;z-index: 1;}#sk-container-id-1 div.sk-parallel {display: flex;align-items: stretch;justify-content: center;background-color: white;position: relative;}#sk-container-id-1 div.sk-item::before, #sk-container-id-1 div.sk-parallel-item::before {content: \"\";position: absolute;border-left: 1px solid gray;box-sizing: border-box;top: 0;bottom: 0;left: 50%;z-index: -1;}#sk-container-id-1 div.sk-parallel-item {display: flex;flex-direction: column;z-index: 1;position: relative;background-color: white;}#sk-container-id-1 div.sk-parallel-item:first-child::after {align-self: flex-end;width: 50%;}#sk-container-id-1 div.sk-parallel-item:last-child::after {align-self: flex-start;width: 50%;}#sk-container-id-1 div.sk-parallel-item:only-child::after {width: 0;}#sk-container-id-1 div.sk-dashed-wrapped {border: 1px dashed gray;margin: 0 0.4em 0.5em 0.4em;box-sizing: border-box;padding-bottom: 0.4em;background-color: white;}#sk-container-id-1 div.sk-label label {font-family: monospace;font-weight: bold;display: inline-block;line-height: 1.2em;}#sk-container-id-1 div.sk-label-container {text-align: center;}#sk-container-id-1 div.sk-container {/* jupyter's `normalize.less` sets `[hidden] { display: none; }` but bootstrap.min.css set `[hidden] { display: none !important; }` so we also need the `!important` here to be able to override the default hidden behavior on the sphinx rendered scikit-learn.org. See: https://github.com/scikit-learn/scikit-learn/issues/21755 */display: inline-block !important;position: relative;}#sk-container-id-1 div.sk-text-repr-fallback {display: none;}</style><div id=\"sk-container-id-1\" class=\"sk-top-container\"><div class=\"sk-text-repr-fallback\"><pre>KNeighborsRegressor()</pre><b>In a Jupyter environment, please rerun this cell to show the HTML representation or trust the notebook. <br />On GitHub, the HTML representation is unable to render, please try loading this page with nbviewer.org.</b></div><div class=\"sk-container\" hidden><div class=\"sk-item\"><div class=\"sk-estimator sk-toggleable\"><input class=\"sk-toggleable__control sk-hidden--visually\" id=\"sk-estimator-id-1\" type=\"checkbox\" checked><label for=\"sk-estimator-id-1\" class=\"sk-toggleable__label sk-toggleable__label-arrow\">KNeighborsRegressor</label><div class=\"sk-toggleable__content\"><pre>KNeighborsRegressor()</pre></div></div></div></div></div>"
      ],
      "text/plain": [
       "KNeighborsRegressor()"
      ]
     },
     "execution_count": 50,
     "metadata": {},
     "output_type": "execute_result"
    }
   ],
   "source": [
    "knn = KNeighborsRegressor(n_neighbors=5)\n",
    "knn.fit(x_train,y_train)"
   ]
  },
  {
   "cell_type": "markdown",
   "metadata": {},
   "source": [
    "# Testing the Model"
   ]
  },
  {
   "cell_type": "code",
   "execution_count": 51,
   "metadata": {},
   "outputs": [],
   "source": [
    "y_pred = knn.predict(x_test)"
   ]
  },
  {
   "cell_type": "code",
   "execution_count": 52,
   "metadata": {},
   "outputs": [
    {
     "data": {
      "text/plain": [
       "0.9902141925575244"
      ]
     },
     "execution_count": 52,
     "metadata": {},
     "output_type": "execute_result"
    }
   ],
   "source": [
    "r2_score(y_pred,y_test)"
   ]
  },
  {
   "cell_type": "code",
   "execution_count": 62,
   "metadata": {},
   "outputs": [
    {
     "data": {
      "text/plain": [
       "Text(0, 0.5, 'Y variable')"
      ]
     },
     "execution_count": 62,
     "metadata": {},
     "output_type": "execute_result"
    },
    {
     "data": {
      "image/png": "[encoded data removed]",
      "text/plain": [
       "<Figure size 640x480 with 1 Axes>"
      ]
     },
     "metadata": {},
     "output_type": "display_data"
    }
   ],
   "source": [
    "plt.plot(x_test,y_pred ,color=\"red\")\n",
    "plt.scatter(df.iloc[:,0:1],df.iloc[:,1:2])\n",
    "plt.grid()\n",
    "plt.title(\"Random Data set\")\n",
    "plt.xlabel(\"X variable\")\n",
    "plt.ylabel(\"Y variable\")"
   ]
  },
  {
   "cell_type": "code",
   "execution_count": 56,
   "metadata": {},
   "outputs": [
    {
     "data": {
      "text/plain": [
       "array([[1.02211642e+02],\n",
       "       [9.71535651e+01],\n",
       "       [1.03287552e+01],\n",
       "       [8.55645813e+01],\n",
       "       [9.14907316e+01],\n",
       "       [1.02211642e+02],\n",
       "       [6.42164481e+01],\n",
       "       [2.53315149e+01],\n",
       "       [3.57175781e+01],\n",
       "       [2.19413082e+01],\n",
       "       [6.18198833e+01],\n",
       "       [2.19413082e+01],\n",
       "       [5.27191300e+01],\n",
       "       [5.54754255e+00],\n",
       "       [1.99754863e+00],\n",
       "       [3.16401765e+01],\n",
       "       [2.53315149e+01],\n",
       "       [1.72297838e-02],\n",
       "       [3.47194374e+01],\n",
       "       [4.20069089e+01],\n",
       "       [9.74294015e+01],\n",
       "       [1.81349116e+01],\n",
       "       [2.33472641e+01],\n",
       "       [9.49171323e-01],\n",
       "       [5.54754255e+00],\n",
       "       [7.32409826e+01],\n",
       "       [2.80931547e+01],\n",
       "       [1.18753362e+01],\n",
       "       [3.47194374e+01],\n",
       "       [7.86984326e+01],\n",
       "       [6.78628176e+01],\n",
       "       [1.18753362e+01],\n",
       "       [8.02137814e+01],\n",
       "       [5.60016939e+01],\n",
       "       [5.18498248e+01],\n",
       "       [7.65203501e+01],\n",
       "       [4.20069089e+01],\n",
       "       [2.12439408e+01],\n",
       "       [9.14907316e+01],\n",
       "       [2.65723128e+01],\n",
       "       [1.99754863e+00],\n",
       "       [5.54754255e+00],\n",
       "       [4.98472429e+01],\n",
       "       [4.55647682e+01],\n",
       "       [4.87170450e+01],\n",
       "       [2.53617327e+00],\n",
       "       [5.80196740e+01],\n",
       "       [9.74979385e+01],\n",
       "       [5.46743092e+00],\n",
       "       [5.46743092e+00],\n",
       "       [3.73827800e+01],\n",
       "       [5.49426821e+01],\n",
       "       [3.57175781e+01],\n",
       "       [1.54117572e+01],\n",
       "       [5.27191300e+01],\n",
       "       [8.14678860e+01],\n",
       "       [5.18498248e+01],\n",
       "       [4.87170450e+01],\n",
       "       [6.00974423e+01],\n",
       "       [4.20548070e+01],\n",
       "       [2.53315149e+01],\n",
       "       [8.02137814e+01],\n",
       "       [3.47194374e+01],\n",
       "       [4.12842120e+00],\n",
       "       [5.54754255e+00],\n",
       "       [2.15906337e+01],\n",
       "       [1.18753362e+01],\n",
       "       [9.42823082e+00],\n",
       "       [9.48673431e+01],\n",
       "       [1.03287552e+01],\n",
       "       [2.12439408e+01],\n",
       "       [1.19068941e+01],\n",
       "       [4.79347326e+01],\n",
       "       [2.53617327e+00],\n",
       "       [2.15906337e+01],\n",
       "       [5.80196740e+01],\n",
       "       [5.49426821e+01],\n",
       "       [7.24550665e+00],\n",
       "       [7.05310029e+01],\n",
       "       [3.16401765e+01],\n",
       "       [2.53617327e+00],\n",
       "       [4.98472429e+01],\n",
       "       [9.74294015e+01],\n",
       "       [4.98472429e+01],\n",
       "       [4.87170450e+01],\n",
       "       [5.18498248e+01],\n",
       "       [5.80196740e+01],\n",
       "       [1.54117572e+01],\n",
       "       [4.12842120e+00],\n",
       "       [7.55261396e+01],\n",
       "       [3.57175781e+01],\n",
       "       [4.89770152e+01],\n",
       "       [3.54202090e+01],\n",
       "       [7.32409826e+01],\n",
       "       [2.20710342e+01],\n",
       "       [7.55261396e+01],\n",
       "       [8.55645813e+01],\n",
       "       [9.74294015e+01],\n",
       "       [5.18498248e+01],\n",
       "       [7.13845882e+01],\n",
       "       [2.15906337e+01],\n",
       "       [5.49426821e+01],\n",
       "       [1.02211642e+02],\n",
       "       [3.54202090e+01],\n",
       "       [4.98472429e+01],\n",
       "       [9.74294015e+01],\n",
       "       [3.36742522e+01],\n",
       "       [2.90663513e+01],\n",
       "       [5.18498248e+01],\n",
       "       [6.78628176e+01],\n",
       "       [1.18753362e+01],\n",
       "       [5.18498248e+01],\n",
       "       [1.03287552e+01],\n",
       "       [1.20891384e+01],\n",
       "       [2.15906337e+01],\n",
       "       [7.55261396e+01],\n",
       "       [2.16268328e+01],\n",
       "       [6.18198833e+01],\n",
       "       [3.47194374e+01],\n",
       "       [9.48673431e+01],\n",
       "       [7.24550665e+00],\n",
       "       [9.10442995e+01],\n",
       "       [5.80196740e+01],\n",
       "       [9.23605138e+01],\n",
       "       [2.90663513e+01],\n",
       "       [8.60688570e+01],\n",
       "       [1.54117572e+01],\n",
       "       [2.98413068e+01],\n",
       "       [8.93622486e+01],\n",
       "       [1.72297838e-02],\n",
       "       [2.33472641e+01],\n",
       "       [9.42823082e+00],\n",
       "       [7.55261396e+01],\n",
       "       [7.55261396e+01],\n",
       "       [4.20069089e+01],\n",
       "       [8.41318872e+01],\n",
       "       [4.20548070e+01],\n",
       "       [2.80931547e+01],\n",
       "       [4.55647682e+01],\n",
       "       [4.89770152e+01]])"
      ]
     },
     "execution_count": 56,
     "metadata": {},
     "output_type": "execute_result"
    }
   ],
   "source": []
  },
  {
   "cell_type": "code",
   "execution_count": null,
   "metadata": {},
   "outputs": [],
   "source": []
  }
 ],
 "metadata": {
  "kernelspec": {
   "display_name": "Python 3",
   "language": "python",
   "name": "python3"
  },
  "language_info": {
   "codemirror_mode": {
    "name": "ipython",
    "version": 3
   },
   "file_extension": ".py",
   "mimetype": "text/x-python",
   "name": "python",
   "nbconvert_exporter": "python",
   "pygments_lexer": "ipython3",
   "version": "3.8.10"
  },
  "orig_nbformat": 4
 },
 "nbformat": 4,
 "nbformat_minor": 2
}
